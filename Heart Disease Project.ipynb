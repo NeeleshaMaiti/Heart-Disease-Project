{
 "cells": [
  {
   "cell_type": "markdown",
   "metadata": {},
   "source": [
    "# Heart Disease - A Classification Analysis"
   ]
  },
  {
   "cell_type": "markdown",
   "metadata": {},
   "source": [
    "## Author : Neelesha Maiti"
   ]
  },
  {
   "cell_type": "markdown",
   "metadata": {},
   "source": [
    "### Introduction"
   ]
  },
  {
   "cell_type": "markdown",
   "metadata": {},
   "source": [
    "The human heart is an organ that pumps blood throughout the body via the circulatory system, supplying oxygen and nutrients to the tissues and removing carbon dioxide and other wastes. The heart muscle needs oxygen to survive. A heart attack occurs when the blood flow that brings oxygen to the heart muscle is severely reduced or cut off completely.\n",
    "\n",
    "In this project data has been collected on presence and absence of heart disease and the various factors involved in it. \n"
   ]
  },
  {
   "cell_type": "markdown",
   "metadata": {},
   "source": [
    "### Dataset "
   ]
  },
  {
   "cell_type": "markdown",
   "metadata": {},
   "source": [
    "Heart Disease Data set by UCI Machine Learning repository: https://archive.ics.uci.edu/ml/datasets/heart+disease \n",
    "\n",
    "Dataset columns: \n",
    "\n",
    "\tage: The person’s age in years\n",
    "\n",
    "\tsex: The person’s sex (1 = male, 0 = female)\n",
    "\n",
    "\tcp: chest pain type\n",
    "    \n",
    "   — Value 0: asymptomatic , Value 1: atypical angina , Value 2: non-anginal pain , Value 3: typical angina\n",
    "\n",
    "\ttrestbps: The person’s resting blood pressure (mm Hg on admission to the hospital)\n",
    "\n",
    "\tchol: The person’s cholesterol measurement in mg/dl\n",
    "\n",
    "\tfbs: The person’s fasting blood sugar (> 120 mg/dl)\n",
    "    \n",
    "   — Value 1 = true , Value 0 = false\n",
    "   \n",
    "\trestecg: resting electrocardiographic results\n",
    "\n",
    "   — Value 0: showing probable or definite left ventricular hypertrophy by Estes’ criteria , Value 1: normal , Value 2: having ST-T wave abnormality (T wave inversions and/or ST elevation or depression of > 0.05 mV)\n",
    "   \n",
    "\tthalach: The person’s maximum heart rate achieved\n",
    "\n",
    "\texang: Exercise induced angina \n",
    "\n",
    "   — 1: yes, 0: no\n",
    "\n",
    "\toldpeak: ST depression induced by exercise relative to rest (‘ST’ relates to positions on the ECG plot.)\n",
    "\n",
    "\tslope: the slope of the peak exercise ST segment \n",
    "\n",
    "   — 0: downsloping , 1: flat , 2: upsloping\n",
    "   \n",
    "\tca: The number of major vessels (0 –3) coloured by fluoroscopy\n",
    "\n",
    "\tthal: A blood disorder called thalassemia \n",
    "\n",
    "   —Value 0: NULL (dropped from the dataset previously , Value 1: fixed defect (no blood flow in some part of the heart) , Value 2: normal blood flow , Value 3: reversible defect (a blood flow is observed but it is not normal)\n",
    "   \n",
    "\ttarget: Heart disease  \n",
    "\n",
    "   —1 = no , 0= yes\n",
    "   \n",
    "This is multivariate type of dataset which means providing or involving a variety of separate mathematical or statistical variables, multivariate numerical data analysis. It is composed of 14 attributes which are age, sex, chest pain type, resting blood pressure, serum cholesterol, fasting blood sugar, resting electrocardiographic results, maximum heart rate achieved, exercise induced angina, oldpeak — ST depression induced by exercise relative to rest, the slope of the peak exercise ST segment, number of major vessels and Thalassemia. This database includes 76 attributes, but all published studies relate to the use of a subset of 14 of them. The Cleveland database is the only one used by ML researchers to date. One of the major tasks on this dataset is to predict based on the given attributes of a patient that whether that particular person has a heart disease or not and other is the experimental task to diagnose and find out various insights from this dataset which could help in understanding the problem more.\n",
    "\n",
    "We proceed towards analysis of the data using R. "
   ]
  },
  {
   "cell_type": "markdown",
   "metadata": {},
   "source": [
    "#### Libraries loaded "
   ]
  },
  {
   "cell_type": "code",
   "execution_count": 1,
   "metadata": {},
   "outputs": [
    {
     "name": "stderr",
     "output_type": "stream",
     "text": [
      "Loading required package: lattice\n",
      "\n",
      "randomForest 4.6-14\n",
      "\n",
      "Type rfNews() to see new features/changes/bug fixes.\n",
      "\n",
      "\n",
      "Attaching package: 'randomForest'\n",
      "\n",
      "\n",
      "The following object is masked from 'package:ggplot2':\n",
      "\n",
      "    margin\n",
      "\n",
      "\n",
      "Type 'citation(\"pROC\")' for a citation.\n",
      "\n",
      "\n",
      "Attaching package: 'pROC'\n",
      "\n",
      "\n",
      "The following objects are masked from 'package:stats':\n",
      "\n",
      "    cov, smooth, var\n",
      "\n",
      "\n"
     ]
    }
   ],
   "source": [
    "library(ggplot2)\n",
    "library(ggpubr)\n",
    "library(ggcorrplot)\n",
    "library(leaps)\n",
    "library(caret)\n",
    "library(MASS)\n",
    "library(tree)\n",
    "library(randomForest)\n",
    "library(pROC)\n",
    "library(e1071)\n",
    "set.seed(seed=987)"
   ]
  },
  {
   "cell_type": "markdown",
   "metadata": {},
   "source": [
    "#### Data Content"
   ]
  },
  {
   "cell_type": "code",
   "execution_count": 2,
   "metadata": {},
   "outputs": [
    {
     "data": {
      "text/html": [
       "<table class=\"dataframe\">\n",
       "<caption>A data.frame: 6 × 14</caption>\n",
       "<thead>\n",
       "\t<tr><th></th><th scope=col>age</th><th scope=col>sex</th><th scope=col>cp</th><th scope=col>trestbps</th><th scope=col>chol</th><th scope=col>fbs</th><th scope=col>restecg</th><th scope=col>thalach</th><th scope=col>exang</th><th scope=col>oldpeak</th><th scope=col>slope</th><th scope=col>ca</th><th scope=col>thal</th><th scope=col>target</th></tr>\n",
       "\t<tr><th></th><th scope=col>&lt;int&gt;</th><th scope=col>&lt;int&gt;</th><th scope=col>&lt;int&gt;</th><th scope=col>&lt;int&gt;</th><th scope=col>&lt;int&gt;</th><th scope=col>&lt;int&gt;</th><th scope=col>&lt;int&gt;</th><th scope=col>&lt;int&gt;</th><th scope=col>&lt;int&gt;</th><th scope=col>&lt;dbl&gt;</th><th scope=col>&lt;int&gt;</th><th scope=col>&lt;int&gt;</th><th scope=col>&lt;int&gt;</th><th scope=col>&lt;int&gt;</th></tr>\n",
       "</thead>\n",
       "<tbody>\n",
       "\t<tr><th scope=row>1</th><td>63</td><td>1</td><td>3</td><td>145</td><td>233</td><td>1</td><td>0</td><td>150</td><td>0</td><td>2.3</td><td>0</td><td>0</td><td>1</td><td>1</td></tr>\n",
       "\t<tr><th scope=row>2</th><td>37</td><td>1</td><td>2</td><td>130</td><td>250</td><td>0</td><td>1</td><td>187</td><td>0</td><td>3.5</td><td>0</td><td>0</td><td>2</td><td>1</td></tr>\n",
       "\t<tr><th scope=row>3</th><td>41</td><td>0</td><td>1</td><td>130</td><td>204</td><td>0</td><td>0</td><td>172</td><td>0</td><td>1.4</td><td>2</td><td>0</td><td>2</td><td>1</td></tr>\n",
       "\t<tr><th scope=row>4</th><td>56</td><td>1</td><td>1</td><td>120</td><td>236</td><td>0</td><td>1</td><td>178</td><td>0</td><td>0.8</td><td>2</td><td>0</td><td>2</td><td>1</td></tr>\n",
       "\t<tr><th scope=row>5</th><td>57</td><td>0</td><td>0</td><td>120</td><td>354</td><td>0</td><td>1</td><td>163</td><td>1</td><td>0.6</td><td>2</td><td>0</td><td>2</td><td>1</td></tr>\n",
       "\t<tr><th scope=row>6</th><td>57</td><td>1</td><td>0</td><td>140</td><td>192</td><td>0</td><td>1</td><td>148</td><td>0</td><td>0.4</td><td>1</td><td>0</td><td>1</td><td>1</td></tr>\n",
       "</tbody>\n",
       "</table>\n"
      ],
      "text/latex": [
       "A data.frame: 6 × 14\n",
       "\\begin{tabular}{r|llllllllllllll}\n",
       "  & age & sex & cp & trestbps & chol & fbs & restecg & thalach & exang & oldpeak & slope & ca & thal & target\\\\\n",
       "  & <int> & <int> & <int> & <int> & <int> & <int> & <int> & <int> & <int> & <dbl> & <int> & <int> & <int> & <int>\\\\\n",
       "\\hline\n",
       "\t1 & 63 & 1 & 3 & 145 & 233 & 1 & 0 & 150 & 0 & 2.3 & 0 & 0 & 1 & 1\\\\\n",
       "\t2 & 37 & 1 & 2 & 130 & 250 & 0 & 1 & 187 & 0 & 3.5 & 0 & 0 & 2 & 1\\\\\n",
       "\t3 & 41 & 0 & 1 & 130 & 204 & 0 & 0 & 172 & 0 & 1.4 & 2 & 0 & 2 & 1\\\\\n",
       "\t4 & 56 & 1 & 1 & 120 & 236 & 0 & 1 & 178 & 0 & 0.8 & 2 & 0 & 2 & 1\\\\\n",
       "\t5 & 57 & 0 & 0 & 120 & 354 & 0 & 1 & 163 & 1 & 0.6 & 2 & 0 & 2 & 1\\\\\n",
       "\t6 & 57 & 1 & 0 & 140 & 192 & 0 & 1 & 148 & 0 & 0.4 & 1 & 0 & 1 & 1\\\\\n",
       "\\end{tabular}\n"
      ],
      "text/markdown": [
       "\n",
       "A data.frame: 6 × 14\n",
       "\n",
       "| <!--/--> | age &lt;int&gt; | sex &lt;int&gt; | cp &lt;int&gt; | trestbps &lt;int&gt; | chol &lt;int&gt; | fbs &lt;int&gt; | restecg &lt;int&gt; | thalach &lt;int&gt; | exang &lt;int&gt; | oldpeak &lt;dbl&gt; | slope &lt;int&gt; | ca &lt;int&gt; | thal &lt;int&gt; | target &lt;int&gt; |\n",
       "|---|---|---|---|---|---|---|---|---|---|---|---|---|---|---|\n",
       "| 1 | 63 | 1 | 3 | 145 | 233 | 1 | 0 | 150 | 0 | 2.3 | 0 | 0 | 1 | 1 |\n",
       "| 2 | 37 | 1 | 2 | 130 | 250 | 0 | 1 | 187 | 0 | 3.5 | 0 | 0 | 2 | 1 |\n",
       "| 3 | 41 | 0 | 1 | 130 | 204 | 0 | 0 | 172 | 0 | 1.4 | 2 | 0 | 2 | 1 |\n",
       "| 4 | 56 | 1 | 1 | 120 | 236 | 0 | 1 | 178 | 0 | 0.8 | 2 | 0 | 2 | 1 |\n",
       "| 5 | 57 | 0 | 0 | 120 | 354 | 0 | 1 | 163 | 1 | 0.6 | 2 | 0 | 2 | 1 |\n",
       "| 6 | 57 | 1 | 0 | 140 | 192 | 0 | 1 | 148 | 0 | 0.4 | 1 | 0 | 1 | 1 |\n",
       "\n"
      ],
      "text/plain": [
       "  age sex cp trestbps chol fbs restecg thalach exang oldpeak slope ca thal\n",
       "1 63  1   3  145      233  1   0       150     0     2.3     0     0  1   \n",
       "2 37  1   2  130      250  0   1       187     0     3.5     0     0  2   \n",
       "3 41  0   1  130      204  0   0       172     0     1.4     2     0  2   \n",
       "4 56  1   1  120      236  0   1       178     0     0.8     2     0  2   \n",
       "5 57  0   0  120      354  0   1       163     1     0.6     2     0  2   \n",
       "6 57  1   0  140      192  0   1       148     0     0.4     1     0  1   \n",
       "  target\n",
       "1 1     \n",
       "2 1     \n",
       "3 1     \n",
       "4 1     \n",
       "5 1     \n",
       "6 1     "
      ]
     },
     "metadata": {},
     "output_type": "display_data"
    },
    {
     "data": {
      "text/html": [
       "<style>\n",
       ".list-inline {list-style: none; margin:0; padding: 0}\n",
       ".list-inline>li {display: inline-block}\n",
       ".list-inline>li:not(:last-child)::after {content: \"\\00b7\"; padding: 0 .5ex}\n",
       "</style>\n",
       "<ol class=list-inline><li>303</li><li>14</li></ol>\n"
      ],
      "text/latex": [
       "\\begin{enumerate*}\n",
       "\\item 303\n",
       "\\item 14\n",
       "\\end{enumerate*}\n"
      ],
      "text/markdown": [
       "1. 303\n",
       "2. 14\n",
       "\n",
       "\n"
      ],
      "text/plain": [
       "[1] 303  14"
      ]
     },
     "metadata": {},
     "output_type": "display_data"
    },
    {
     "name": "stdout",
     "output_type": "stream",
     "text": [
      "'data.frame':\t303 obs. of  14 variables:\n",
      " $ age     : int  63 37 41 56 57 57 56 44 52 57 ...\n",
      " $ sex     : int  1 1 0 1 0 1 0 1 1 1 ...\n",
      " $ cp      : int  3 2 1 1 0 0 1 1 2 2 ...\n",
      " $ trestbps: int  145 130 130 120 120 140 140 120 172 150 ...\n",
      " $ chol    : int  233 250 204 236 354 192 294 263 199 168 ...\n",
      " $ fbs     : int  1 0 0 0 0 0 0 0 1 0 ...\n",
      " $ restecg : int  0 1 0 1 1 1 0 1 1 1 ...\n",
      " $ thalach : int  150 187 172 178 163 148 153 173 162 174 ...\n",
      " $ exang   : int  0 0 0 0 1 0 0 0 0 0 ...\n",
      " $ oldpeak : num  2.3 3.5 1.4 0.8 0.6 0.4 1.3 0 0.5 1.6 ...\n",
      " $ slope   : int  0 0 2 2 2 1 1 2 2 2 ...\n",
      " $ ca      : int  0 0 0 0 0 0 0 0 0 0 ...\n",
      " $ thal    : int  1 2 2 2 2 1 2 3 3 2 ...\n",
      " $ target  : int  1 1 1 1 1 1 1 1 1 1 ...\n"
     ]
    }
   ],
   "source": [
    "df=read.csv(\"heart.csv\")\n",
    "colnames(df)[1] = \"age\"\n",
    "head(df)\n",
    "dim(df)\n",
    "str(df)"
   ]
  },
  {
   "cell_type": "markdown",
   "metadata": {},
   "source": [
    "#### Checking for missing values"
   ]
  },
  {
   "cell_type": "code",
   "execution_count": 3,
   "metadata": {},
   "outputs": [
    {
     "data": {
      "text/html": [
       "0"
      ],
      "text/latex": [
       "0"
      ],
      "text/markdown": [
       "0"
      ],
      "text/plain": [
       "[1] 0"
      ]
     },
     "metadata": {},
     "output_type": "display_data"
    }
   ],
   "source": [
    "sum(is.na(df))"
   ]
  },
  {
   "cell_type": "markdown",
   "metadata": {},
   "source": [
    "We see that there are no null values in the data"
   ]
  },
  {
   "cell_type": "code",
   "execution_count": 4,
   "metadata": {},
   "outputs": [
    {
     "data": {
      "text/plain": [
       "      age             sex               cp           trestbps    \n",
       " Min.   :29.00   Min.   :0.0000   Min.   :0.000   Min.   : 94.0  \n",
       " 1st Qu.:47.50   1st Qu.:0.0000   1st Qu.:0.000   1st Qu.:120.0  \n",
       " Median :55.00   Median :1.0000   Median :1.000   Median :130.0  \n",
       " Mean   :54.37   Mean   :0.6832   Mean   :0.967   Mean   :131.6  \n",
       " 3rd Qu.:61.00   3rd Qu.:1.0000   3rd Qu.:2.000   3rd Qu.:140.0  \n",
       " Max.   :77.00   Max.   :1.0000   Max.   :3.000   Max.   :200.0  \n",
       "      chol            fbs            restecg          thalach     \n",
       " Min.   :126.0   Min.   :0.0000   Min.   :0.0000   Min.   : 71.0  \n",
       " 1st Qu.:211.0   1st Qu.:0.0000   1st Qu.:0.0000   1st Qu.:133.5  \n",
       " Median :240.0   Median :0.0000   Median :1.0000   Median :153.0  \n",
       " Mean   :246.3   Mean   :0.1485   Mean   :0.5281   Mean   :149.6  \n",
       " 3rd Qu.:274.5   3rd Qu.:0.0000   3rd Qu.:1.0000   3rd Qu.:166.0  \n",
       " Max.   :564.0   Max.   :1.0000   Max.   :2.0000   Max.   :202.0  \n",
       "     exang           oldpeak         slope             ca        \n",
       " Min.   :0.0000   Min.   :0.00   Min.   :0.000   Min.   :0.0000  \n",
       " 1st Qu.:0.0000   1st Qu.:0.00   1st Qu.:1.000   1st Qu.:0.0000  \n",
       " Median :0.0000   Median :0.80   Median :1.000   Median :0.0000  \n",
       " Mean   :0.3267   Mean   :1.04   Mean   :1.399   Mean   :0.7294  \n",
       " 3rd Qu.:1.0000   3rd Qu.:1.60   3rd Qu.:2.000   3rd Qu.:1.0000  \n",
       " Max.   :1.0000   Max.   :6.20   Max.   :2.000   Max.   :4.0000  \n",
       "      thal           target      \n",
       " Min.   :0.000   Min.   :0.0000  \n",
       " 1st Qu.:2.000   1st Qu.:0.0000  \n",
       " Median :2.000   Median :1.0000  \n",
       " Mean   :2.314   Mean   :0.5446  \n",
       " 3rd Qu.:3.000   3rd Qu.:1.0000  \n",
       " Max.   :3.000   Max.   :1.0000  "
      ]
     },
     "metadata": {},
     "output_type": "display_data"
    }
   ],
   "source": [
    "summary(df)"
   ]
  },
  {
   "cell_type": "markdown",
   "metadata": {},
   "source": [
    "#### Data Categorization"
   ]
  },
  {
   "cell_type": "code",
   "execution_count": 5,
   "metadata": {},
   "outputs": [
    {
     "name": "stdout",
     "output_type": "stream",
     "text": [
      "'data.frame':\t303 obs. of  14 variables:\n",
      " $ age     : int  63 37 41 56 57 57 56 44 52 57 ...\n",
      " $ sex     : Factor w/ 2 levels \"female\",\"male\": 2 2 1 2 1 2 1 2 2 2 ...\n",
      " $ cp      : Factor w/ 4 levels \"asymptomatic\",..: 1 3 2 2 4 4 2 2 3 3 ...\n",
      " $ trestbps: int  145 130 130 120 120 140 140 120 172 150 ...\n",
      " $ chol    : int  233 250 204 236 354 192 294 263 199 168 ...\n",
      " $ fbs     : Factor w/ 2 levels \"<=120 mg/dl\",..: 2 1 1 1 1 1 1 1 2 1 ...\n",
      " $ restecg : Factor w/ 3 levels \"abnormality\",..: 2 1 2 1 1 1 2 1 1 1 ...\n",
      " $ thalach : int  150 187 172 178 163 148 153 173 162 174 ...\n",
      " $ exang   : Factor w/ 2 levels \"no\",\"yes\": 1 1 1 1 2 1 1 1 1 1 ...\n",
      " $ oldpeak : num  2.3 3.5 1.4 0.8 0.6 0.4 1.3 0 0.5 1.6 ...\n",
      " $ slope   : Factor w/ 3 levels \"downsloping\",..: 3 3 1 1 1 2 2 1 1 1 ...\n",
      " $ ca      : Factor w/ 5 levels \"0\",\"1\",\"2\",\"3\",..: 1 1 1 1 1 1 1 1 1 1 ...\n",
      " $ thal    : Factor w/ 4 levels \"0\",\"1\",\"2\",\"3\": 2 3 3 3 3 2 3 4 4 3 ...\n",
      " $ target  : Factor w/ 2 levels \"absent\",\"present\": 2 2 2 2 2 2 2 2 2 2 ...\n"
     ]
    }
   ],
   "source": [
    "df$sex <- ifelse(df$sex == 1,'male', 'female')\n",
    "df$target <- ifelse(df$target == 1, 'present', 'absent')\n",
    "df$fbs <- ifelse(df$fbs == 1, \">120 mg/dl\", \"<=120 mg/dl\")\n",
    "df$exang <- ifelse(df$exang == 1, \"yes\" ,\"no\")\n",
    "df$cp <- ifelse(df$cp == 0, \"typical angina\",ifelse(df$cp == 1, \"atypical angina\", ifelse(df$cp == 2, \"non-anginal pain\", \"asymptomatic\")))\n",
    "df$restecg <- ifelse(df$restecg == 0, \"normal\",ifelse(df$restecg == 1, \"abnormality\", \"probable or definite\"))\n",
    "df$slope <- ifelse(df$slope == 0, \"upsloping\",ifelse(df$slope ==1, \"flat value\", \"downsloping\"))\n",
    "\n",
    "for(i in 1 : ncol(df)){\n",
    "  if(length(names(table(df[,i]))) <= 5){\n",
    "    df[,i] <- as.factor(df[,i])\n",
    "  }\n",
    "}\n",
    "\n",
    "str(df)"
   ]
  },
  {
   "cell_type": "markdown",
   "metadata": {},
   "source": [
    "#### Exploratory Data Analysis"
   ]
  },
  {
   "cell_type": "code",
   "execution_count": 6,
   "metadata": {},
   "outputs": [
    {
     "data": {
      "image/png": "[encoded data removed]",
      "text/plain": [
       "plot without title"
      ]
     },
     "metadata": {
      "image/png": {
       "height": 420,
       "width": 420
      }
     },
     "output_type": "display_data"
    }
   ],
   "source": [
    "#Bar plot for Target \n",
    "ggplot(df , aes(x = target,fill = target)) + geom_bar() + xlab(\"Heart Disease\") + ylab(\"Count\") + ggtitle(\"Presence and Absence of Heart Disease\") + scale_fill_discrete(name = \"Heart Disease\" , labels = c(\"Absent\",\"Present\")) + theme_bw()"
   ]
  },
  {
   "cell_type": "markdown",
   "metadata": {},
   "source": [
    "Observation: A primary observation is made showing that in the dataset, the number of people having heart disease is slightly greater than the number of people not having heart disease."
   ]
  },
  {
   "cell_type": "code",
   "execution_count": 7,
   "metadata": {},
   "outputs": [
    {
     "data": {
      "image/png": "[encoded data removed]",
      "text/plain": [
       "plot without title"
      ]
     },
     "metadata": {
      "image/png": {
       "height": 420,
       "width": 420
      }
     },
     "output_type": "display_data"
    }
   ],
   "source": [
    "#Box plot comparing age and sex with respect to target\n",
    "ggplot(df, aes(x = sex, y = age, fill = target)) + geom_boxplot() + scale_fill_discrete(name = \"Heart Disease\", labels = c(\"Absent\",\"Present\")) + scale_x_discrete(labels = c(\"0\" = \"Female\",\"1\" = \"Male\")) + ggtitle(\"Sex vs Age with respect to presence or absence of Heart Disease\") + theme_bw()"
   ]
  },
  {
   "cell_type": "markdown",
   "metadata": {},
   "source": [
    "Observation: In the above boxplots, it is seen that for females, the presence of heart disease varies over a wide range of age than its absence with median around 55 and for males, the presence of heart disease varies over ages 65 to 52 (approx.) while it is seen to be absent for a relatively younger age group. "
   ]
  },
  {
   "cell_type": "code",
   "execution_count": 8,
   "metadata": {},
   "outputs": [
    {
     "data": {
      "image/png": "[encoded data removed]",
      "text/plain": [
       "plot without title"
      ]
     },
     "metadata": {
      "image/png": {
       "height": 420,
       "width": 420
      }
     },
     "output_type": "display_data"
    }
   ],
   "source": [
    "#Plot showing Chest pain of different types with target\n",
    "ggplot(df , aes(cp , fill = target)) + geom_bar(position = \"fill\") + xlab(\"chest pain\") + scale_x_discrete(labels = c(\"0\" = \"typical angina\" , \"1\" = \"atypical angina\",\"2\" = \"non-anginal pain\" , \"3\" = \"asymptomatic\")) +ylab(\"percentage\") + ggtitle(\"Chest pain with presence of absence of heart disease\") + scale_fill_discrete(name = \"Heart Disease\" , labels = c(\"Absent\" , \"Present\")) + theme_bw()"
   ]
  },
  {
   "cell_type": "markdown",
   "metadata": {},
   "source": [
    "Observation: The percentage of heart disease patients with 'asymptomatic', 'atypical angina' and 'non-anginal' chest pain is high while for 'typical angina' the percentage of patients without heart disease is higher. "
   ]
  },
  {
   "cell_type": "code",
   "execution_count": 9,
   "metadata": {},
   "outputs": [
    {
     "data": {
      "image/png": "[encoded data removed]",
      "text/plain": [
       "plot without title"
      ]
     },
     "metadata": {
      "image/png": {
       "height": 420,
       "width": 420
      }
     },
     "output_type": "display_data"
    }
   ],
   "source": [
    "# Boxplots comparing BP for different kinds of chest pain for male and female\n",
    "cp.labs = c(\"typical angina\",\"atypical angina\",\"non-anginal pain\",\"asymptomatic\")\n",
    "names(cp.labs) = c(\"typical angina\",\"atypical angina\",\"non-anginal pain\",\"asymptomatic\")\n",
    "ggplot(df, aes(x = sex,y = trestbps)) + geom_boxplot(fill = \"darkorange\") + xlab(\"Gender\") + ylab(\"BP\") + facet_grid(~cp, labeller = labeller(cp = cp.labs)) + ggtitle(\"Boxplots showing how BP varies with different kinds of cp for male & female\") + theme_bw()"
   ]
  },
  {
   "cell_type": "markdown",
   "metadata": {},
   "source": [
    "Observation: There is a large variation of blood pressure among the males with 'asymptotic' chest pain than with females. For the remaining types of chest pains male and female have more or less same range of blood pressures. It is also observed there are a few outliers for 'atypical anginal' as well as non anginal chest pains."
   ]
  },
  {
   "cell_type": "code",
   "execution_count": 10,
   "metadata": {
    "scrolled": false
   },
   "outputs": [
    {
     "data": {
      "image/png": "[encoded data removed]",
      "text/plain": [
       "plot without title"
      ]
     },
     "metadata": {
      "image/png": {
       "height": 420,
       "width": 420
      }
     },
     "output_type": "display_data"
    }
   ],
   "source": [
    "#Plot showing how target is varying with all the catagorical variables in the data\n",
    "p0 <- ggplot(df,aes(x=target))+facet_grid(~sex)+geom_bar(fill=\"forestgreen\") + theme_bw()\n",
    "p1 <- ggplot(df,aes(x=target))+facet_grid(~cp)+geom_bar(fill=\"hotpink\") + theme_bw()\n",
    "p2 <- ggplot(df,aes(x=target))+facet_grid(~fbs)+geom_bar(fill=\"darkorange\") + theme_bw()\n",
    "p3 <- ggplot(df,aes(x=target))+facet_grid(~restecg)+geom_bar(fill=\"darkmagenta\") + theme_bw()\n",
    "p4 <- ggplot(df,aes(x=target))+facet_grid(~exang)+geom_bar(fill=\"midnightblue\") + theme_bw()\n",
    "p5 <- ggplot(df,aes(x=target))+facet_grid(~slope)+geom_bar(fill=\"seagreen3\") + theme_bw()\n",
    "p6 <- ggplot(df,aes(x=target))+facet_grid(~ca)+geom_bar(fill=\"darkturquoise\") + theme_bw()\n",
    "p7 <- ggplot(df,aes(x=target))+facet_grid(~thal)+geom_bar(fill=\"red4\") + theme_bw()\n",
    "ggarrange(p0,p1,p2,p3,p4,p5,p6,p7,nrow=4,ncol=2)"
   ]
  },
  {
   "cell_type": "markdown",
   "metadata": {},
   "source": [
    "Observation: \n",
    "\n",
    "In p0, number of males with heart disease is greater than the number of females. \n",
    "\n",
    "In p1, 'asymptomatic', 'atypical' and 'non anginal' chest pains have same kind of pattern with higher number of patients with heart disease than its absence, but is opposite for 'typical angina'. \n",
    "\n",
    "In p2, greater number of people have heart disease with fasting blood sugar <=120mg/dl. \n",
    "\n",
    "In p3, abnormality and normal have higher proportion of heart disease than probable or definite which is significantly low. \n",
    "\n",
    "In p4, the people with 'no excercise indused angina' have higher rate of presence of heart disease than the ones with 'exercise indiced angina'. \n",
    "\n",
    "In p5, the slope of peak exercise ST segment which is downsloping has higher rate of heart disease , for flat slope absence of heart diesase is in greater count and is almost insignificant in upsloping. \n",
    "\n",
    "In p6, number of major vessels coloured by fluroscopy having value 0 has higher rate of heart disease and it significantly decreases in the rest. \n",
    "\n",
    "In p7, people with fixed defect of thalassemia have higher rate of heart disease while it is opposite in case of reversable defect and is almost insignificant in the rest cases."
   ]
  },
  {
   "cell_type": "markdown",
   "metadata": {},
   "source": [
    "#### Correlation matrix of the continuous variables "
   ]
  },
  {
   "cell_type": "code",
   "execution_count": 11,
   "metadata": {},
   "outputs": [
    {
     "data": {
      "image/png": "[encoded data removed]",
      "text/plain": [
       "plot without title"
      ]
     },
     "metadata": {
      "image/png": {
       "height": 420,
       "width": 420
      }
     },
     "output_type": "display_data"
    }
   ],
   "source": [
    "c=cor(df[,c(\"age\",\"trestbps\",\"chol\",\"thalach\",\"oldpeak\")])\n",
    "ggcorrplot(corr = c,lab = T)"
   ]
  },
  {
   "cell_type": "markdown",
   "metadata": {},
   "source": [
    "Observation: From the correlation matrix, we observe that not any two variables are highly correlated. However, it is to be noted that 'thalach' and 'age' have correlation coefficient of -0.4 which shows that there is a moderate negative correlation. 'Oldpeak' and 'thalach' also show a similar kind of relationship. A few of the pairs also show slight positive correlation."
   ]
  },
  {
   "cell_type": "markdown",
   "metadata": {},
   "source": [
    "#### One Hot Encoding"
   ]
  },
  {
   "cell_type": "markdown",
   "metadata": {},
   "source": [
    "Now, we encode our categorical variables that have more than two categories."
   ]
  },
  {
   "cell_type": "code",
   "execution_count": 12,
   "metadata": {},
   "outputs": [
    {
     "data": {
      "text/html": [
       "<table class=\"dataframe\">\n",
       "<caption>A data.frame: 6 × 23</caption>\n",
       "<thead>\n",
       "\t<tr><th></th><th scope=col>age</th><th scope=col>sex</th><th scope=col>trestbps</th><th scope=col>chol</th><th scope=col>fbs</th><th scope=col>thalach</th><th scope=col>exang</th><th scope=col>oldpeak</th><th scope=col>target</th><th scope=col>df.cp.asymptomatic</th><th scope=col>...</th><th scope=col>df.restecg.probable.or.definite</th><th scope=col>df.slope.downsloping</th><th scope=col>df.slope.upsloping</th><th scope=col>df.ca.1</th><th scope=col>df.ca.2</th><th scope=col>df.ca.3</th><th scope=col>df.ca.4</th><th scope=col>df.thal.1</th><th scope=col>df.thal.2</th><th scope=col>df.thal.3</th></tr>\n",
       "\t<tr><th></th><th scope=col>&lt;int&gt;</th><th scope=col>&lt;fct&gt;</th><th scope=col>&lt;int&gt;</th><th scope=col>&lt;int&gt;</th><th scope=col>&lt;fct&gt;</th><th scope=col>&lt;int&gt;</th><th scope=col>&lt;fct&gt;</th><th scope=col>&lt;dbl&gt;</th><th scope=col>&lt;fct&gt;</th><th scope=col>&lt;dbl&gt;</th><th scope=col>...</th><th scope=col>&lt;dbl&gt;</th><th scope=col>&lt;dbl&gt;</th><th scope=col>&lt;dbl&gt;</th><th scope=col>&lt;dbl&gt;</th><th scope=col>&lt;dbl&gt;</th><th scope=col>&lt;dbl&gt;</th><th scope=col>&lt;dbl&gt;</th><th scope=col>&lt;dbl&gt;</th><th scope=col>&lt;dbl&gt;</th><th scope=col>&lt;dbl&gt;</th></tr>\n",
       "</thead>\n",
       "<tbody>\n",
       "\t<tr><th scope=row>1</th><td>63</td><td><span style=white-space:pre-wrap>male  </span></td><td>145</td><td>233</td><td>&gt;120 mg/dl </td><td>150</td><td>no </td><td>2.3</td><td>present</td><td>1</td><td>...</td><td>0</td><td>0</td><td>1</td><td>0</td><td>0</td><td>0</td><td>0</td><td>1</td><td>0</td><td>0</td></tr>\n",
       "\t<tr><th scope=row>2</th><td>37</td><td><span style=white-space:pre-wrap>male  </span></td><td>130</td><td>250</td><td>&lt;=120 mg/dl</td><td>187</td><td>no </td><td>3.5</td><td>present</td><td>0</td><td>...</td><td>0</td><td>0</td><td>1</td><td>0</td><td>0</td><td>0</td><td>0</td><td>0</td><td>1</td><td>0</td></tr>\n",
       "\t<tr><th scope=row>3</th><td>41</td><td>female</td><td>130</td><td>204</td><td>&lt;=120 mg/dl</td><td>172</td><td>no </td><td>1.4</td><td>present</td><td>0</td><td>...</td><td>0</td><td>1</td><td>0</td><td>0</td><td>0</td><td>0</td><td>0</td><td>0</td><td>1</td><td>0</td></tr>\n",
       "\t<tr><th scope=row>4</th><td>56</td><td><span style=white-space:pre-wrap>male  </span></td><td>120</td><td>236</td><td>&lt;=120 mg/dl</td><td>178</td><td>no </td><td>0.8</td><td>present</td><td>0</td><td>...</td><td>0</td><td>1</td><td>0</td><td>0</td><td>0</td><td>0</td><td>0</td><td>0</td><td>1</td><td>0</td></tr>\n",
       "\t<tr><th scope=row>5</th><td>57</td><td>female</td><td>120</td><td>354</td><td>&lt;=120 mg/dl</td><td>163</td><td>yes</td><td>0.6</td><td>present</td><td>0</td><td>...</td><td>0</td><td>1</td><td>0</td><td>0</td><td>0</td><td>0</td><td>0</td><td>0</td><td>1</td><td>0</td></tr>\n",
       "\t<tr><th scope=row>6</th><td>57</td><td><span style=white-space:pre-wrap>male  </span></td><td>140</td><td>192</td><td>&lt;=120 mg/dl</td><td>148</td><td>no </td><td>0.4</td><td>present</td><td>0</td><td>...</td><td>0</td><td>0</td><td>0</td><td>0</td><td>0</td><td>0</td><td>0</td><td>1</td><td>0</td><td>0</td></tr>\n",
       "</tbody>\n",
       "</table>\n"
      ],
      "text/latex": [
       "A data.frame: 6 × 23\n",
       "\\begin{tabular}{r|lllllllllllllllllllll}\n",
       "  & age & sex & trestbps & chol & fbs & thalach & exang & oldpeak & target & df.cp.asymptomatic & ... & df.restecg.probable.or.definite & df.slope.downsloping & df.slope.upsloping & df.ca.1 & df.ca.2 & df.ca.3 & df.ca.4 & df.thal.1 & df.thal.2 & df.thal.3\\\\\n",
       "  & <int> & <fct> & <int> & <int> & <fct> & <int> & <fct> & <dbl> & <fct> & <dbl> & ... & <dbl> & <dbl> & <dbl> & <dbl> & <dbl> & <dbl> & <dbl> & <dbl> & <dbl> & <dbl>\\\\\n",
       "\\hline\n",
       "\t1 & 63 & male   & 145 & 233 & >120 mg/dl  & 150 & no  & 2.3 & present & 1 & ... & 0 & 0 & 1 & 0 & 0 & 0 & 0 & 1 & 0 & 0\\\\\n",
       "\t2 & 37 & male   & 130 & 250 & <=120 mg/dl & 187 & no  & 3.5 & present & 0 & ... & 0 & 0 & 1 & 0 & 0 & 0 & 0 & 0 & 1 & 0\\\\\n",
       "\t3 & 41 & female & 130 & 204 & <=120 mg/dl & 172 & no  & 1.4 & present & 0 & ... & 0 & 1 & 0 & 0 & 0 & 0 & 0 & 0 & 1 & 0\\\\\n",
       "\t4 & 56 & male   & 120 & 236 & <=120 mg/dl & 178 & no  & 0.8 & present & 0 & ... & 0 & 1 & 0 & 0 & 0 & 0 & 0 & 0 & 1 & 0\\\\\n",
       "\t5 & 57 & female & 120 & 354 & <=120 mg/dl & 163 & yes & 0.6 & present & 0 & ... & 0 & 1 & 0 & 0 & 0 & 0 & 0 & 0 & 1 & 0\\\\\n",
       "\t6 & 57 & male   & 140 & 192 & <=120 mg/dl & 148 & no  & 0.4 & present & 0 & ... & 0 & 0 & 0 & 0 & 0 & 0 & 0 & 1 & 0 & 0\\\\\n",
       "\\end{tabular}\n"
      ],
      "text/markdown": [
       "\n",
       "A data.frame: 6 × 23\n",
       "\n",
       "| <!--/--> | age &lt;int&gt; | sex &lt;fct&gt; | trestbps &lt;int&gt; | chol &lt;int&gt; | fbs &lt;fct&gt; | thalach &lt;int&gt; | exang &lt;fct&gt; | oldpeak &lt;dbl&gt; | target &lt;fct&gt; | df.cp.asymptomatic &lt;dbl&gt; | ... ... | df.restecg.probable.or.definite &lt;dbl&gt; | df.slope.downsloping &lt;dbl&gt; | df.slope.upsloping &lt;dbl&gt; | df.ca.1 &lt;dbl&gt; | df.ca.2 &lt;dbl&gt; | df.ca.3 &lt;dbl&gt; | df.ca.4 &lt;dbl&gt; | df.thal.1 &lt;dbl&gt; | df.thal.2 &lt;dbl&gt; | df.thal.3 &lt;dbl&gt; |\n",
       "|---|---|---|---|---|---|---|---|---|---|---|---|---|---|---|---|---|---|---|---|---|---|\n",
       "| 1 | 63 | male   | 145 | 233 | &gt;120 mg/dl  | 150 | no  | 2.3 | present | 1 | ... | 0 | 0 | 1 | 0 | 0 | 0 | 0 | 1 | 0 | 0 |\n",
       "| 2 | 37 | male   | 130 | 250 | &lt;=120 mg/dl | 187 | no  | 3.5 | present | 0 | ... | 0 | 0 | 1 | 0 | 0 | 0 | 0 | 0 | 1 | 0 |\n",
       "| 3 | 41 | female | 130 | 204 | &lt;=120 mg/dl | 172 | no  | 1.4 | present | 0 | ... | 0 | 1 | 0 | 0 | 0 | 0 | 0 | 0 | 1 | 0 |\n",
       "| 4 | 56 | male   | 120 | 236 | &lt;=120 mg/dl | 178 | no  | 0.8 | present | 0 | ... | 0 | 1 | 0 | 0 | 0 | 0 | 0 | 0 | 1 | 0 |\n",
       "| 5 | 57 | female | 120 | 354 | &lt;=120 mg/dl | 163 | yes | 0.6 | present | 0 | ... | 0 | 1 | 0 | 0 | 0 | 0 | 0 | 0 | 1 | 0 |\n",
       "| 6 | 57 | male   | 140 | 192 | &lt;=120 mg/dl | 148 | no  | 0.4 | present | 0 | ... | 0 | 0 | 0 | 0 | 0 | 0 | 0 | 1 | 0 | 0 |\n",
       "\n"
      ],
      "text/plain": [
       "  age sex    trestbps chol fbs         thalach exang oldpeak target \n",
       "1 63  male   145      233  >120 mg/dl  150     no    2.3     present\n",
       "2 37  male   130      250  <=120 mg/dl 187     no    3.5     present\n",
       "3 41  female 130      204  <=120 mg/dl 172     no    1.4     present\n",
       "4 56  male   120      236  <=120 mg/dl 178     no    0.8     present\n",
       "5 57  female 120      354  <=120 mg/dl 163     yes   0.6     present\n",
       "6 57  male   140      192  <=120 mg/dl 148     no    0.4     present\n",
       "  df.cp.asymptomatic ... df.restecg.probable.or.definite df.slope.downsloping\n",
       "1 1                  ... 0                               0                   \n",
       "2 0                  ... 0                               0                   \n",
       "3 0                  ... 0                               1                   \n",
       "4 0                  ... 0                               1                   \n",
       "5 0                  ... 0                               1                   \n",
       "6 0                  ... 0                               0                   \n",
       "  df.slope.upsloping df.ca.1 df.ca.2 df.ca.3 df.ca.4 df.thal.1 df.thal.2\n",
       "1 1                  0       0       0       0       1         0        \n",
       "2 1                  0       0       0       0       0         1        \n",
       "3 0                  0       0       0       0       0         1        \n",
       "4 0                  0       0       0       0       0         1        \n",
       "5 0                  0       0       0       0       0         1        \n",
       "6 0                  0       0       0       0       1         0        \n",
       "  df.thal.3\n",
       "1 0        \n",
       "2 0        \n",
       "3 0        \n",
       "4 0        \n",
       "5 0        \n",
       "6 0        "
      ]
     },
     "metadata": {},
     "output_type": "display_data"
    },
    {
     "data": {
      "text/html": [
       "<style>\n",
       ".list-inline {list-style: none; margin:0; padding: 0}\n",
       ".list-inline>li {display: inline-block}\n",
       ".list-inline>li:not(:last-child)::after {content: \"\\00b7\"; padding: 0 .5ex}\n",
       "</style>\n",
       "<ol class=list-inline><li>303</li><li>23</li></ol>\n"
      ],
      "text/latex": [
       "\\begin{enumerate*}\n",
       "\\item 303\n",
       "\\item 23\n",
       "\\end{enumerate*}\n"
      ],
      "text/markdown": [
       "1. 303\n",
       "2. 23\n",
       "\n",
       "\n"
      ],
      "text/plain": [
       "[1] 303  23"
      ]
     },
     "metadata": {},
     "output_type": "display_data"
    }
   ],
   "source": [
    "to_dummy <- data.frame(df$cp,df$restecg,df$slope,df$ca,df$thal)\n",
    "dmy <- dummyVars(\" ~ .\", data = to_dummy)\n",
    "df2 <- data.frame(predict(dmy, newdata = to_dummy))\n",
    "df2 <- df2[, !(colnames(df2) %in% c(\"df.cp.typical.angina\", \"df.restecg.normal\",\"df.slope.flat.value\",\"df.ca.0\",\"df.thal.0\"))]\n",
    "df <- df[,!(colnames(df) %in% c(\"cp\",\"restecg\",\"slope\",\"ca\",\"thal\"))]\n",
    "df <- cbind(df, df2)\n",
    "head(df)\n",
    "dim(df)"
   ]
  },
  {
   "cell_type": "code",
   "execution_count": 13,
   "metadata": {},
   "outputs": [],
   "source": [
    "attach(df)"
   ]
  },
  {
   "cell_type": "markdown",
   "metadata": {},
   "source": [
    "#### Feature Selection"
   ]
  },
  {
   "cell_type": "markdown",
   "metadata": {},
   "source": [
    "We have usedd Best Subset Method and Bayesian Information Criterion (BIC) for selecting the features for our analysis."
   ]
  },
  {
   "cell_type": "code",
   "execution_count": 14,
   "metadata": {},
   "outputs": [
    {
     "data": {
      "text/html": [
       "<style>\n",
       ".list-inline {list-style: none; margin:0; padding: 0}\n",
       ".list-inline>li {display: inline-block}\n",
       ".list-inline>li:not(:last-child)::after {content: \"\\00b7\"; padding: 0 .5ex}\n",
       "</style>\n",
       "<ol class=list-inline><li>'which'</li><li>'rsq'</li><li>'rss'</li><li>'adjr2'</li><li>'cp'</li><li>'bic'</li><li>'outmat'</li><li>'obj'</li></ol>\n"
      ],
      "text/latex": [
       "\\begin{enumerate*}\n",
       "\\item 'which'\n",
       "\\item 'rsq'\n",
       "\\item 'rss'\n",
       "\\item 'adjr2'\n",
       "\\item 'cp'\n",
       "\\item 'bic'\n",
       "\\item 'outmat'\n",
       "\\item 'obj'\n",
       "\\end{enumerate*}\n"
      ],
      "text/markdown": [
       "1. 'which'\n",
       "2. 'rsq'\n",
       "3. 'rss'\n",
       "4. 'adjr2'\n",
       "5. 'cp'\n",
       "6. 'bic'\n",
       "7. 'outmat'\n",
       "8. 'obj'\n",
       "\n",
       "\n"
      ],
      "text/plain": [
       "[1] \"which\"  \"rsq\"    \"rss\"    \"adjr2\"  \"cp\"     \"bic\"    \"outmat\" \"obj\"   "
      ]
     },
     "metadata": {},
     "output_type": "display_data"
    },
    {
     "data": {
      "text/html": [
       "10"
      ],
      "text/latex": [
       "10"
      ],
      "text/markdown": [
       "10"
      ],
      "text/plain": [
       "[1] 10"
      ]
     },
     "metadata": {},
     "output_type": "display_data"
    },
    {
     "data": {
      "image/png": "[encoded data removed]",
      "text/plain": [
       "plot without title"
      ]
     },
     "metadata": {
      "image/png": {
       "height": 420,
       "width": 420
      }
     },
     "output_type": "display_data"
    }
   ],
   "source": [
    "reg_full <- regsubsets(target~.,data=df,nvmax=23)\n",
    "s_full<- summary(reg_full)\n",
    "names(s_full)\n",
    "which.min(s_full$bic)\n",
    "plot(s_full$bic,xlab =\"No. of Variables\",ylab=expression(paste(\"BIC\")),type=\"l\")\n",
    "points(10,s_full$bic[10],col=\"red\",cex=2,pch=20)"
   ]
  },
  {
   "cell_type": "markdown",
   "metadata": {},
   "source": [
    "Observation: We can see that for 10 variables the BIC value is minimum."
   ]
  },
  {
   "cell_type": "code",
   "execution_count": 15,
   "metadata": {},
   "outputs": [
    {
     "data": {
      "text/html": [
       "<style>\n",
       ".list-inline {list-style: none; margin:0; padding: 0}\n",
       ".list-inline>li {display: inline-block}\n",
       ".list-inline>li:not(:last-child)::after {content: \"\\00b7\"; padding: 0 .5ex}\n",
       "</style>\n",
       "<ol class=list-inline><li>'sexmale'</li><li>'exangyes'</li><li>'df.cp.asymptomatic'</li><li>'df.cp.atypical.angina'</li><li>'df.cp.non.anginal.pain'</li><li>'df.slope.downsloping'</li><li>'df.ca.1'</li><li>'df.ca.2'</li><li>'df.ca.3'</li><li>'df.thal.3'</li></ol>\n"
      ],
      "text/latex": [
       "\\begin{enumerate*}\n",
       "\\item 'sexmale'\n",
       "\\item 'exangyes'\n",
       "\\item 'df.cp.asymptomatic'\n",
       "\\item 'df.cp.atypical.angina'\n",
       "\\item 'df.cp.non.anginal.pain'\n",
       "\\item 'df.slope.downsloping'\n",
       "\\item 'df.ca.1'\n",
       "\\item 'df.ca.2'\n",
       "\\item 'df.ca.3'\n",
       "\\item 'df.thal.3'\n",
       "\\end{enumerate*}\n"
      ],
      "text/markdown": [
       "1. 'sexmale'\n",
       "2. 'exangyes'\n",
       "3. 'df.cp.asymptomatic'\n",
       "4. 'df.cp.atypical.angina'\n",
       "5. 'df.cp.non.anginal.pain'\n",
       "6. 'df.slope.downsloping'\n",
       "7. 'df.ca.1'\n",
       "8. 'df.ca.2'\n",
       "9. 'df.ca.3'\n",
       "10. 'df.thal.3'\n",
       "\n",
       "\n"
      ],
      "text/plain": [
       " [1] \"sexmale\"                \"exangyes\"               \"df.cp.asymptomatic\"    \n",
       " [4] \"df.cp.atypical.angina\"  \"df.cp.non.anginal.pain\" \"df.slope.downsloping\"  \n",
       " [7] \"df.ca.1\"                \"df.ca.2\"                \"df.ca.3\"               \n",
       "[10] \"df.thal.3\"             "
      ]
     },
     "metadata": {},
     "output_type": "display_data"
    }
   ],
   "source": [
    "names(coef(reg_full,10))[-1]"
   ]
  },
  {
   "cell_type": "markdown",
   "metadata": {},
   "source": [
    "Now, we are ready with our final dataset for further analysis."
   ]
  },
  {
   "cell_type": "code",
   "execution_count": 16,
   "metadata": {},
   "outputs": [
    {
     "data": {
      "text/html": [
       "<table class=\"dataframe\">\n",
       "<caption>A data.frame: 6 × 11</caption>\n",
       "<thead>\n",
       "\t<tr><th></th><th scope=col>sex</th><th scope=col>exang</th><th scope=col>target</th><th scope=col>df.cp.asymptomatic</th><th scope=col>df.cp.atypical.angina</th><th scope=col>df.cp.non.anginal.pain</th><th scope=col>df.slope.downsloping</th><th scope=col>df.ca.1</th><th scope=col>df.ca.2</th><th scope=col>df.ca.3</th><th scope=col>df.thal.3</th></tr>\n",
       "\t<tr><th></th><th scope=col>&lt;fct&gt;</th><th scope=col>&lt;fct&gt;</th><th scope=col>&lt;fct&gt;</th><th scope=col>&lt;dbl&gt;</th><th scope=col>&lt;dbl&gt;</th><th scope=col>&lt;dbl&gt;</th><th scope=col>&lt;dbl&gt;</th><th scope=col>&lt;dbl&gt;</th><th scope=col>&lt;dbl&gt;</th><th scope=col>&lt;dbl&gt;</th><th scope=col>&lt;dbl&gt;</th></tr>\n",
       "</thead>\n",
       "<tbody>\n",
       "\t<tr><th scope=row>1</th><td>male  </td><td>no </td><td>present</td><td>1</td><td>0</td><td>0</td><td>0</td><td>0</td><td>0</td><td>0</td><td>0</td></tr>\n",
       "\t<tr><th scope=row>2</th><td>male  </td><td>no </td><td>present</td><td>0</td><td>0</td><td>1</td><td>0</td><td>0</td><td>0</td><td>0</td><td>0</td></tr>\n",
       "\t<tr><th scope=row>3</th><td>female</td><td>no </td><td>present</td><td>0</td><td>1</td><td>0</td><td>1</td><td>0</td><td>0</td><td>0</td><td>0</td></tr>\n",
       "\t<tr><th scope=row>4</th><td>male  </td><td>no </td><td>present</td><td>0</td><td>1</td><td>0</td><td>1</td><td>0</td><td>0</td><td>0</td><td>0</td></tr>\n",
       "\t<tr><th scope=row>5</th><td>female</td><td>yes</td><td>present</td><td>0</td><td>0</td><td>0</td><td>1</td><td>0</td><td>0</td><td>0</td><td>0</td></tr>\n",
       "\t<tr><th scope=row>6</th><td>male  </td><td>no </td><td>present</td><td>0</td><td>0</td><td>0</td><td>0</td><td>0</td><td>0</td><td>0</td><td>0</td></tr>\n",
       "</tbody>\n",
       "</table>\n"
      ],
      "text/latex": [
       "A data.frame: 6 × 11\n",
       "\\begin{tabular}{r|lllllllllll}\n",
       "  & sex & exang & target & df.cp.asymptomatic & df.cp.atypical.angina & df.cp.non.anginal.pain & df.slope.downsloping & df.ca.1 & df.ca.2 & df.ca.3 & df.thal.3\\\\\n",
       "  & <fct> & <fct> & <fct> & <dbl> & <dbl> & <dbl> & <dbl> & <dbl> & <dbl> & <dbl> & <dbl>\\\\\n",
       "\\hline\n",
       "\t1 & male   & no  & present & 1 & 0 & 0 & 0 & 0 & 0 & 0 & 0\\\\\n",
       "\t2 & male   & no  & present & 0 & 0 & 1 & 0 & 0 & 0 & 0 & 0\\\\\n",
       "\t3 & female & no  & present & 0 & 1 & 0 & 1 & 0 & 0 & 0 & 0\\\\\n",
       "\t4 & male   & no  & present & 0 & 1 & 0 & 1 & 0 & 0 & 0 & 0\\\\\n",
       "\t5 & female & yes & present & 0 & 0 & 0 & 1 & 0 & 0 & 0 & 0\\\\\n",
       "\t6 & male   & no  & present & 0 & 0 & 0 & 0 & 0 & 0 & 0 & 0\\\\\n",
       "\\end{tabular}\n"
      ],
      "text/markdown": [
       "\n",
       "A data.frame: 6 × 11\n",
       "\n",
       "| <!--/--> | sex &lt;fct&gt; | exang &lt;fct&gt; | target &lt;fct&gt; | df.cp.asymptomatic &lt;dbl&gt; | df.cp.atypical.angina &lt;dbl&gt; | df.cp.non.anginal.pain &lt;dbl&gt; | df.slope.downsloping &lt;dbl&gt; | df.ca.1 &lt;dbl&gt; | df.ca.2 &lt;dbl&gt; | df.ca.3 &lt;dbl&gt; | df.thal.3 &lt;dbl&gt; |\n",
       "|---|---|---|---|---|---|---|---|---|---|---|---|\n",
       "| 1 | male   | no  | present | 1 | 0 | 0 | 0 | 0 | 0 | 0 | 0 |\n",
       "| 2 | male   | no  | present | 0 | 0 | 1 | 0 | 0 | 0 | 0 | 0 |\n",
       "| 3 | female | no  | present | 0 | 1 | 0 | 1 | 0 | 0 | 0 | 0 |\n",
       "| 4 | male   | no  | present | 0 | 1 | 0 | 1 | 0 | 0 | 0 | 0 |\n",
       "| 5 | female | yes | present | 0 | 0 | 0 | 1 | 0 | 0 | 0 | 0 |\n",
       "| 6 | male   | no  | present | 0 | 0 | 0 | 0 | 0 | 0 | 0 | 0 |\n",
       "\n"
      ],
      "text/plain": [
       "  sex    exang target  df.cp.asymptomatic df.cp.atypical.angina\n",
       "1 male   no    present 1                  0                    \n",
       "2 male   no    present 0                  0                    \n",
       "3 female no    present 0                  1                    \n",
       "4 male   no    present 0                  1                    \n",
       "5 female yes   present 0                  0                    \n",
       "6 male   no    present 0                  0                    \n",
       "  df.cp.non.anginal.pain df.slope.downsloping df.ca.1 df.ca.2 df.ca.3 df.thal.3\n",
       "1 0                      0                    0       0       0       0        \n",
       "2 1                      0                    0       0       0       0        \n",
       "3 0                      1                    0       0       0       0        \n",
       "4 0                      1                    0       0       0       0        \n",
       "5 0                      1                    0       0       0       0        \n",
       "6 0                      0                    0       0       0       0        "
      ]
     },
     "metadata": {},
     "output_type": "display_data"
    },
    {
     "data": {
      "text/html": [
       "<style>\n",
       ".list-inline {list-style: none; margin:0; padding: 0}\n",
       ".list-inline>li {display: inline-block}\n",
       ".list-inline>li:not(:last-child)::after {content: \"\\00b7\"; padding: 0 .5ex}\n",
       "</style>\n",
       "<ol class=list-inline><li>303</li><li>11</li></ol>\n"
      ],
      "text/latex": [
       "\\begin{enumerate*}\n",
       "\\item 303\n",
       "\\item 11\n",
       "\\end{enumerate*}\n"
      ],
      "text/markdown": [
       "1. 303\n",
       "2. 11\n",
       "\n",
       "\n"
      ],
      "text/plain": [
       "[1] 303  11"
      ]
     },
     "metadata": {},
     "output_type": "display_data"
    }
   ],
   "source": [
    "df_new = df[,-c(1,3,4,5,6,8,13,14,16,20,21,22)]\n",
    "head(df_new)\n",
    "dim(df_new)"
   ]
  },
  {
   "cell_type": "markdown",
   "metadata": {},
   "source": [
    "In our final data we have 11 columns."
   ]
  },
  {
   "cell_type": "markdown",
   "metadata": {},
   "source": [
    "### Data Analysis"
   ]
  },
  {
   "cell_type": "markdown",
   "metadata": {},
   "source": [
    "#### Splitting the Data"
   ]
  },
  {
   "cell_type": "code",
   "execution_count": 17,
   "metadata": {},
   "outputs": [
    {
     "name": "stdout",
     "output_type": "stream",
     "text": [
      "[1] \"The data is successfully split into Train, Test and Cross Validation Set\"\n"
     ]
    }
   ],
   "source": [
    "ind1=sample(1:nrow(df_new),floor(0.6*nrow(df_new)))\n",
    "train=df_new[ind1,]\n",
    "rem=df_new[-ind1,]\n",
    "ind2=sample(1:nrow(rem),floor(0.5*nrow(rem)))\n",
    "cv=rem[ind2,]\n",
    "test=rem[-ind2,]\n",
    "obs_target=cv$target\n",
    "print(\"The data is successfully split into Train, Test and Cross Validation Set\")"
   ]
  },
  {
   "cell_type": "markdown",
   "metadata": {},
   "source": [
    "#### Logistic Regression "
   ]
  },
  {
   "cell_type": "code",
   "execution_count": 18,
   "metadata": {},
   "outputs": [
    {
     "data": {
      "text/plain": [
       "             obs_target\n",
       "logistic_pred absent present\n",
       "      absent      23       3\n",
       "      present      3      32"
      ]
     },
     "metadata": {},
     "output_type": "display_data"
    },
    {
     "data": {
      "text/html": [
       "<span style=white-space:pre-wrap>'Accuracy of the logistic regression model is:  0.901639344262295'</span>"
      ],
      "text/latex": [
       "'Accuracy of the logistic regression model is:  0.901639344262295'"
      ],
      "text/markdown": [
       "<span style=white-space:pre-wrap>'Accuracy of the logistic regression model is:  0.901639344262295'</span>"
      ],
      "text/plain": [
       "[1] \"Accuracy of the logistic regression model is:  0.901639344262295\""
      ]
     },
     "metadata": {},
     "output_type": "display_data"
    }
   ],
   "source": [
    "logistic_fit <- glm(target~.,data = train,family=\"binomial\")\n",
    "logistic_pred <- rep(\"absent\", nrow(cv))\n",
    "pred_prob <- predict(logistic_fit, newdata = cv, type = \"response\")\n",
    "logistic_pred [pred_prob > 0.5] = \"present\"\n",
    "temp1 = table(logistic_pred, obs_target)\n",
    "temp1\n",
    "paste(\"Accuracy of the logistic regression model is: \",mean(logistic_pred == obs_target))"
   ]
  },
  {
   "cell_type": "code",
   "execution_count": 19,
   "metadata": {},
   "outputs": [
    {
     "data": {
      "text/html": [
       "'Misclassification Error Rate for Logistic Regression is 9.83606557377049 %'"
      ],
      "text/latex": [
       "'Misclassification Error Rate for Logistic Regression is 9.83606557377049 \\%'"
      ],
      "text/markdown": [
       "'Misclassification Error Rate for Logistic Regression is 9.83606557377049 %'"
      ],
      "text/plain": [
       "[1] \"Misclassification Error Rate for Logistic Regression is 9.83606557377049 %\""
      ]
     },
     "metadata": {},
     "output_type": "display_data"
    },
    {
     "data": {
      "text/html": [
       "<span style=white-space:pre-wrap>'The f1 score for Logistic Regression is  0.914285714285714'</span>"
      ],
      "text/latex": [
       "'The f1 score for Logistic Regression is  0.914285714285714'"
      ],
      "text/markdown": [
       "<span style=white-space:pre-wrap>'The f1 score for Logistic Regression is  0.914285714285714'</span>"
      ],
      "text/plain": [
       "[1] \"The f1 score for Logistic Regression is  0.914285714285714\""
      ]
     },
     "metadata": {},
     "output_type": "display_data"
    }
   ],
   "source": [
    "precision1 = temp1[2,2]/(temp1[2,2]+temp1[2,1])\n",
    "recall1 = temp1[2,2]/(temp1[2,2]+temp1[1,2])\n",
    "fscore1 = (2*precision1*recall1)/(precision1+recall1)\n",
    "misclassification.rate.logistic = (mean(logistic_pred != obs_target))*100\n",
    "paste(\"Misclassification Error Rate for Logistic Regression is\",misclassification.rate.logistic,\"%\")\n",
    "paste(\"The f1 score for Logistic Regression is \",fscore1)"
   ]
  },
  {
   "cell_type": "markdown",
   "metadata": {},
   "source": [
    "#### Decision Tree Classifier"
   ]
  },
  {
   "cell_type": "code",
   "execution_count": 20,
   "metadata": {},
   "outputs": [
    {
     "data": {
      "text/plain": [
       "\n",
       "Classification tree:\n",
       "tree(formula = target ~ ., data = train, method = \"class\")\n",
       "Variables actually used in tree construction:\n",
       "[1] \"exang\"                  \"df.thal.3\"              \"sex\"                   \n",
       "[4] \"df.cp.non.anginal.pain\" \"df.ca.1\"                \"df.slope.downsloping\"  \n",
       "Number of terminal nodes:  10 \n",
       "Residual mean deviance:  0.8661 = 148.1 / 171 \n",
       "Misclassification error rate: 0.2099 = 38 / 181 "
      ]
     },
     "metadata": {},
     "output_type": "display_data"
    },
    {
     "data": {
      "text/plain": [
       "           obs_target\n",
       "pred_target absent present\n",
       "    absent      22      11\n",
       "    present      4      24"
      ]
     },
     "metadata": {},
     "output_type": "display_data"
    },
    {
     "data": {
      "text/html": [
       "<span style=white-space:pre-wrap>'Accuracy of the decision tree classifier model is:  0.754098360655738'</span>"
      ],
      "text/latex": [
       "'Accuracy of the decision tree classifier model is:  0.754098360655738'"
      ],
      "text/markdown": [
       "<span style=white-space:pre-wrap>'Accuracy of the decision tree classifier model is:  0.754098360655738'</span>"
      ],
      "text/plain": [
       "[1] \"Accuracy of the decision tree classifier model is:  0.754098360655738\""
      ]
     },
     "metadata": {},
     "output_type": "display_data"
    },
    {
     "data": {
      "image/png": "[encoded data removed]",
      "text/plain": [
       "plot without title"
      ]
     },
     "metadata": {
      "image/png": {
       "height": 420,
       "width": 420
      }
     },
     "output_type": "display_data"
    }
   ],
   "source": [
    "tree_fit <- tree(target ~., train , method=\"class\")\n",
    "summary(tree_fit)\n",
    "plot(tree_fit)\n",
    "text(tree_fit, pretty=0, cex=1)\n",
    "tree_pred <- predict(tree_fit, cv, type=\"class\")\n",
    "temp2 = table(pred_target = tree_pred, obs_target)\n",
    "temp2\n",
    "paste(\"Accuracy of the decision tree classifier model is: \",mean(tree_pred == obs_target))"
   ]
  },
  {
   "cell_type": "code",
   "execution_count": 21,
   "metadata": {},
   "outputs": [
    {
     "data": {
      "text/html": [
       "'Misclassification Error Rate for classification tree is 24.5901639344262 %'"
      ],
      "text/latex": [
       "'Misclassification Error Rate for classification tree is 24.5901639344262 \\%'"
      ],
      "text/markdown": [
       "'Misclassification Error Rate for classification tree is 24.5901639344262 %'"
      ],
      "text/plain": [
       "[1] \"Misclassification Error Rate for classification tree is 24.5901639344262 %\""
      ]
     },
     "metadata": {},
     "output_type": "display_data"
    },
    {
     "data": {
      "text/html": [
       "<span style=white-space:pre-wrap>'The f1 score for Classification tree is  0.761904761904762'</span>"
      ],
      "text/latex": [
       "'The f1 score for Classification tree is  0.761904761904762'"
      ],
      "text/markdown": [
       "<span style=white-space:pre-wrap>'The f1 score for Classification tree is  0.761904761904762'</span>"
      ],
      "text/plain": [
       "[1] \"The f1 score for Classification tree is  0.761904761904762\""
      ]
     },
     "metadata": {},
     "output_type": "display_data"
    }
   ],
   "source": [
    "precision2 = temp2[2,2]/(temp2[2,2]+temp2[2,1])\n",
    "recall2 = temp2[2,2]/(temp2[2,2]+temp2[1,2])\n",
    "fscore2 = (2*precision2*recall2)/(precision2+recall2)\n",
    "misclassification.rate.tree = (mean(tree_pred != obs_target))*100\n",
    "paste(\"Misclassification Error Rate for classification tree is\", misclassification.rate.tree, \"%\")\n",
    "paste(\"The f1 score for Classification tree is \",fscore2)"
   ]
  },
  {
   "cell_type": "markdown",
   "metadata": {},
   "source": [
    "#### Random Forest Classifier"
   ]
  },
  {
   "cell_type": "code",
   "execution_count": 22,
   "metadata": {},
   "outputs": [
    {
     "data": {
      "text/plain": [
       "           obs_target\n",
       "pred_target absent present\n",
       "    absent      21       7\n",
       "    present      5      28"
      ]
     },
     "metadata": {},
     "output_type": "display_data"
    },
    {
     "data": {
      "text/html": [
       "<span style=white-space:pre-wrap>'Accuracy of the decision tree classifier model is:  0.80327868852459'</span>"
      ],
      "text/latex": [
       "'Accuracy of the decision tree classifier model is:  0.80327868852459'"
      ],
      "text/markdown": [
       "<span style=white-space:pre-wrap>'Accuracy of the decision tree classifier model is:  0.80327868852459'</span>"
      ],
      "text/plain": [
       "[1] \"Accuracy of the decision tree classifier model is:  0.80327868852459\""
      ]
     },
     "metadata": {},
     "output_type": "display_data"
    }
   ],
   "source": [
    "rf_fit <- randomForest(target ~., data = train)\n",
    "rf_pred <- predict(rf_fit, cv)\n",
    "temp3 = table(pred_target = rf_pred, obs_target)\n",
    "temp3\n",
    "paste(\"Accuracy of the decision tree classifier model is: \", mean(rf_pred == obs_target))"
   ]
  },
  {
   "cell_type": "code",
   "execution_count": 23,
   "metadata": {},
   "outputs": [
    {
     "data": {
      "text/html": [
       "<span style=white-space:pre-wrap>'Misclassification Error Rate for random forest is  19.672131147541 %'</span>"
      ],
      "text/latex": [
       "'Misclassification Error Rate for random forest is  19.672131147541 \\%'"
      ],
      "text/markdown": [
       "<span style=white-space:pre-wrap>'Misclassification Error Rate for random forest is  19.672131147541 %'</span>"
      ],
      "text/plain": [
       "[1] \"Misclassification Error Rate for random forest is  19.672131147541 %\""
      ]
     },
     "metadata": {},
     "output_type": "display_data"
    },
    {
     "data": {
      "text/html": [
       "<span style=white-space:pre-wrap>'The f1 score for random forest is  0.823529411764706'</span>"
      ],
      "text/latex": [
       "'The f1 score for random forest is  0.823529411764706'"
      ],
      "text/markdown": [
       "<span style=white-space:pre-wrap>'The f1 score for random forest is  0.823529411764706'</span>"
      ],
      "text/plain": [
       "[1] \"The f1 score for random forest is  0.823529411764706\""
      ]
     },
     "metadata": {},
     "output_type": "display_data"
    }
   ],
   "source": [
    "precision3 = temp3[2,2]/(temp3[2,2]+temp3[2,1])\n",
    "recall3 = temp3[2,2]/(temp3[2,2]+temp3[1,2])\n",
    "fscore3 = (2*precision3*recall3)/(precision3+recall3)\n",
    "misclassification.rate.rf = (mean(rf_pred != obs_target))*100\n",
    "paste(\"Misclassification Error Rate for random forest is \", misclassification.rate.rf, \"%\")\n",
    "paste(\"The f1 score for random forest is \",fscore3)"
   ]
  },
  {
   "cell_type": "markdown",
   "metadata": {},
   "source": [
    "#### Support Vector Machine"
   ]
  },
  {
   "cell_type": "code",
   "execution_count": 24,
   "metadata": {},
   "outputs": [
    {
     "data": {
      "text/plain": [
       "           obs_target\n",
       "pred_target absent present\n",
       "    absent      23       4\n",
       "    present      3      31"
      ]
     },
     "metadata": {},
     "output_type": "display_data"
    },
    {
     "data": {
      "text/html": [
       "<span style=white-space:pre-wrap>'Accuracy of the svm classifier model is:  0.885245901639344'</span>"
      ],
      "text/latex": [
       "'Accuracy of the svm classifier model is:  0.885245901639344'"
      ],
      "text/markdown": [
       "<span style=white-space:pre-wrap>'Accuracy of the svm classifier model is:  0.885245901639344'</span>"
      ],
      "text/plain": [
       "[1] \"Accuracy of the svm classifier model is:  0.885245901639344\""
      ]
     },
     "metadata": {},
     "output_type": "display_data"
    }
   ],
   "source": [
    "svm_fit <- svm(formula = target ~ .,data = train, type = 'C-classification', kernel = 'linear')\n",
    "svm_pred = predict(svm_fit, cv)\n",
    "temp4 = table(pred_target = svm_pred, obs_target)\n",
    "temp4\n",
    "paste(\"Accuracy of the svm classifier model is: \",mean(svm_pred == obs_target))"
   ]
  },
  {
   "cell_type": "code",
   "execution_count": 25,
   "metadata": {},
   "outputs": [
    {
     "data": {
      "text/html": [
       "'Misclassification Error Rate for SVM is 11.4754098360656 %'"
      ],
      "text/latex": [
       "'Misclassification Error Rate for SVM is 11.4754098360656 \\%'"
      ],
      "text/markdown": [
       "'Misclassification Error Rate for SVM is 11.4754098360656 %'"
      ],
      "text/plain": [
       "[1] \"Misclassification Error Rate for SVM is 11.4754098360656 %\""
      ]
     },
     "metadata": {},
     "output_type": "display_data"
    },
    {
     "data": {
      "text/html": [
       "'The f1 score for SVM is 0.898550724637681'"
      ],
      "text/latex": [
       "'The f1 score for SVM is 0.898550724637681'"
      ],
      "text/markdown": [
       "'The f1 score for SVM is 0.898550724637681'"
      ],
      "text/plain": [
       "[1] \"The f1 score for SVM is 0.898550724637681\""
      ]
     },
     "metadata": {},
     "output_type": "display_data"
    }
   ],
   "source": [
    "precision4 = temp4[2,2]/(temp4[2,2]+temp4[2,1])\n",
    "recall4 = temp4[2,2]/(temp4[2,2]+temp4[1,2])\n",
    "fscore4 = (2*precision4*recall4)/(precision4+recall4)\n",
    "misclassification.rate.svm = (mean(svm_pred != obs_target))*100\n",
    "paste(\"Misclassification Error Rate for SVM is\", misclassification.rate.svm, \"%\")\n",
    "paste(\"The f1 score for SVM is\", fscore4)"
   ]
  },
  {
   "cell_type": "markdown",
   "metadata": {},
   "source": [
    "#### The f1 score for Logistic Regression Model is the highest and this model has least misclassification error on cross validation set. Hence we apply this model on the test data"
   ]
  },
  {
   "cell_type": "code",
   "execution_count": 26,
   "metadata": {
    "scrolled": true
   },
   "outputs": [
    {
     "data": {
      "text/plain": [
       "                  obs_target_test\n",
       "logistic_pred_test absent present\n",
       "           absent      21       1\n",
       "           present      8      31"
      ]
     },
     "metadata": {},
     "output_type": "display_data"
    },
    {
     "data": {
      "text/html": [
       "'Accuracy of the logistic regression model is 0.852459016393443'"
      ],
      "text/latex": [
       "'Accuracy of the logistic regression model is 0.852459016393443'"
      ],
      "text/markdown": [
       "'Accuracy of the logistic regression model is 0.852459016393443'"
      ],
      "text/plain": [
       "[1] \"Accuracy of the logistic regression model is 0.852459016393443\""
      ]
     },
     "metadata": {},
     "output_type": "display_data"
    },
    {
     "data": {
      "text/html": [
       "'Misclassification Error Rate for final model is 14.7540983606557 %'"
      ],
      "text/latex": [
       "'Misclassification Error Rate for final model is 14.7540983606557 \\%'"
      ],
      "text/markdown": [
       "'Misclassification Error Rate for final model is 14.7540983606557 %'"
      ],
      "text/plain": [
       "[1] \"Misclassification Error Rate for final model is 14.7540983606557 %\""
      ]
     },
     "metadata": {},
     "output_type": "display_data"
    }
   ],
   "source": [
    "pred_prob_test <- predict(logistic_fit, newdata = test,type = \"response\")\n",
    "logistic_pred_test <- rep(\"absent\",nrow(test))\n",
    "logistic_pred_test [pred_prob_test > 0.5] = \"present\"\n",
    "obs_target_test = test$target\n",
    "table(logistic_pred_test, obs_target_test)\n",
    "paste(\"Accuracy of the logistic regression model is\", mean(logistic_pred_test == obs_target_test))\n",
    "misclassification.test.logistic = mean(logistic_pred_test != obs_target_test)*100\n",
    "paste(\"Misclassification Error Rate for final model is\",misclassification.test.logistic,\"%\")"
   ]
  },
  {
   "cell_type": "markdown",
   "metadata": {},
   "source": [
    "#### Assessing final model accuracy via ROC curve"
   ]
  },
  {
   "cell_type": "code",
   "execution_count": 27,
   "metadata": {},
   "outputs": [
    {
     "name": "stderr",
     "output_type": "stream",
     "text": [
      "Setting levels: control = absent, case = present\n",
      "\n",
      "Setting direction: controls < cases\n",
      "\n"
     ]
    },
    {
     "data": {
      "text/html": [
       "<span style=white-space:pre-wrap>'Area under the curve is:  0.938038793103448'</span>"
      ],
      "text/latex": [
       "'Area under the curve is:  0.938038793103448'"
      ],
      "text/markdown": [
       "<span style=white-space:pre-wrap>'Area under the curve is:  0.938038793103448'</span>"
      ],
      "text/plain": [
       "[1] \"Area under the curve is:  0.938038793103448\""
      ]
     },
     "metadata": {},
     "output_type": "display_data"
    },
    {
     "data": {
      "image/png": "[encoded data removed]",
      "text/plain": [
       "plot without title"
      ]
     },
     "metadata": {
      "image/png": {
       "height": 420,
       "width": 420
      }
     },
     "output_type": "display_data"
    }
   ],
   "source": [
    "ROC=roc(obs_target_test,pred_prob_test)\n",
    "plot(ROC,col=\"blue\",xlab=\"1-Specificity\",ylab=\"Sensitivity\")\n",
    "paste(\"Area under the curve is: \", auc(ROC))"
   ]
  },
  {
   "cell_type": "markdown",
   "metadata": {},
   "source": [
    "### Conclusion"
   ]
  },
  {
   "cell_type": "markdown",
   "metadata": {},
   "source": [
    "From the above analysis, we see that Logistic Resgression, Decision Tree Classifier, Random Forest, SVM can be used to predict whether a person will have heart disease or not. Among these Logistic Regression gives the best performance and hence used in the model and results are obtained. \n",
    "\n",
    "We can see that from the test results we have predicted that among 61 people we have correctly predicted the presence of heart disease for 31 people and absence of the same for 21 people thereby giving us an accuracy of 85% which is pretty good for fitting a model. \n",
    "\n",
    "Hence we can use logistic regression model for predicting the presence or absence of heart disease."
   ]
  },
  {
   "cell_type": "code",
   "execution_count": null,
   "metadata": {},
   "outputs": [],
   "source": []
  }
 ],
 "metadata": {
  "kernelspec": {
   "display_name": "R",
   "language": "R",
   "name": "ir"
  },
  "language_info": {
   "codemirror_mode": "r",
   "file_extension": ".r",
   "mimetype": "text/x-r-source",
   "name": "R",
   "pygments_lexer": "r",
   "version": "4.0.5"
  }
 },
 "nbformat": 4,
 "nbformat_minor": 4
}
